{
 "cells": [
  {
   "cell_type": "code",
   "execution_count": 5,
   "metadata": {},
   "outputs": [
    {
     "name": "stdout",
     "output_type": "stream",
     "text": [
      "Countdown to 22:00: 04:41:19\n"
     ]
    }
   ],
   "source": [
    "from datetime import datetime, timedelta\n",
    "\n",
    "# Get the current time\n",
    "current_time = datetime.now().time()\n",
    "\n",
    "# Define your target time\n",
    "target_time = datetime.strptime('22:00', '%H:%M').time()  # 10:00 PM\n",
    "\n",
    "# If the target time is earlier than the current time, add 24 hours to it to get the correct difference\n",
    "if target_time < current_time:\n",
    "    target_time = datetime.combine(datetime.today() + timedelta(days=1), target_time)\n",
    "\n",
    "# Calculate the time difference\n",
    "time_difference = datetime.combine(datetime.today(), target_time) - datetime.combine(datetime.today(), current_time)\n",
    "\n",
    "# Convert the time difference to minutes\n",
    "minutes_difference = time_difference.total_seconds() / 60\n",
    "\n",
    "print(f\"You will reach your target time in {int(minutes_difference)} minutes.\")\n"
   ]
  },
  {
   "cell_type": "code",
   "execution_count": 12,
   "metadata": {},
   "outputs": [],
   "source": [
    "\n",
    "def get_timestamp_diff_in_secs(first_datetime, second_datetime):\n",
    "    \"\"\"\n",
    "    Calculate the time difference in seconds between two datetime objects.\n",
    "\n",
    "    Parameters:\n",
    "    - first_datetime (datetime): The first datetime object.\n",
    "    - second_datetime (datetime): The second datetime object.\n",
    "\n",
    "    Returns:\n",
    "    - int: The time difference in seconds (positive if second_datetime is in the future, negative if in the past).\n",
    "    \"\"\"\n",
    "    time_difference = second_datetime - first_datetime\n",
    "    return int(time_difference.total_seconds())"
   ]
  },
  {
   "cell_type": "code",
   "execution_count": 4,
   "metadata": {},
   "outputs": [
    {
     "data": {
      "text/plain": [
       "datetime.datetime(2023, 12, 29, 17, 12, 23, 717595)"
      ]
     },
     "execution_count": 4,
     "metadata": {},
     "output_type": "execute_result"
    }
   ],
   "source": [
    "current_datetime = datetime.now()\n",
    "current_datetime"
   ]
  },
  {
   "cell_type": "code",
   "execution_count": 11,
   "metadata": {},
   "outputs": [
    {
     "data": {
      "text/plain": [
       "32585"
      ]
     },
     "execution_count": 11,
     "metadata": {},
     "output_type": "execute_result"
    }
   ],
   "source": [
    "start_time = '08:20:56'\n",
    "\n",
    "get_timestamp_diff_in_secs()"
   ]
  },
  {
   "cell_type": "code",
   "execution_count": 23,
   "metadata": {},
   "outputs": [],
   "source": [
    "\n",
    "\n",
    "class Blockof10min():\n",
    "    def __init__(self, start_timestamp: datetime) -> None:\n",
    "        self.start_timestamp=start_timestamp\n",
    "        time_difference = get_timestamp_diff_in_secs(start_time, datetime.now())\n",
    "        if time_difference>600:\n",
    "            self.state='past'\n",
    "        elif time_difference<0:\n",
    "            self.state='future'\n",
    "        else:\n",
    "            self.state='present'\n",
    "\n",
    "\n",
    "\n",
    "    def change_state(self, new_state):\n",
    "        time_difference = get_timestamp_diff_in_secs(start_time, datetime.now())\n",
    "        if time_difference>600:\n",
    "            self.state='past'\n",
    "        elif time_difference<0:\n",
    "            self.state='future'\n",
    "        else:\n",
    "            self.state='present'\n",
    "    \n",
    "\n",
    "    def is_O_clock(self):\n",
    "        return self.start_timestamp.minute == 0\n",
    "\n",
    "    def get_events(self):\n",
    "        #event logic to be implemented\n",
    "        return []\n",
    "    \n",
    "    def __str__(self) -> str:\n",
    "        return f'start_timestamp: {self.start_timestamp}, state={self.state}'\n"
   ]
  },
  {
   "cell_type": "code",
   "execution_count": 28,
   "metadata": {},
   "outputs": [
    {
     "data": {
      "text/plain": [
       "datetime.datetime(1900, 1, 1, 8, 0)"
      ]
     },
     "execution_count": 28,
     "metadata": {},
     "output_type": "execute_result"
    }
   ],
   "source": [
    "wakeuptime= '08:00'\n",
    "\n",
    "wakeuptime = datetime.strptime(wakeuptime, \"%H:%M\")\n",
    "wakeuptime"
   ]
  },
  {
   "cell_type": "code",
   "execution_count": 32,
   "metadata": {},
   "outputs": [],
   "source": [
    "wakeuptime= '08:00'\n",
    "sleeptime = '20:04'\n",
    "wakeuptime = datetime.strptime(wakeuptime, \"%H:%M\")\n",
    "sleeptime = datetime.strptime(sleeptime, \"%H:%M\")\n",
    "\n",
    "wakeupdatetime = current_datetime.replace(minute=(wakeuptime.minute // 10) * 10, second=0, microsecond=0)\n",
    "sleepdatetime = current_datetime.replace(minute=(sleeptime.minute // 10) * 10, second=0, microsecond=0)\n",
    "\n",
    "time_difference= wakeupdatetime - sleepdatetime\n",
    "\n",
    "blocks_of_10_minutes = int(time_difference.total_seconds() / 600)\n",
    "\n",
    "arr=[]\n",
    "for block_no in range(0, blocks_of_10_minutes):\n",
    "    start_time=wakeupdatetime + timedelta(minutes=block_no*10)\n",
    "    block= Blockof10min(start_time)\n",
    "    arr.append(block)\n"
   ]
  },
  {
   "cell_type": "code",
   "execution_count": 53,
   "metadata": {},
   "outputs": [],
   "source": [
    "wakeuptime= '08:00'\n",
    "sleeptime = '20:04'\n",
    "wakeuptime = datetime.strptime(wakeuptime, \"%H:%M\")\n",
    "sleeptime = datetime.strptime(sleeptime, \"%H:%M\")\n",
    "\n",
    "current_datetime = datetime.now()\n",
    "\n",
    "wakeupdatetime = current_datetime.replace(hour=wakeuptime.hour, minute=(wakeuptime.minute // 10) * 10, second=0, microsecond=0)\n",
    "sleepdatetime = current_datetime.replace(hour = sleeptime.hour, minute=(sleeptime.minute // 10) * 10, second=0, microsecond=0)\n",
    "\n",
    "time_difference= sleepdatetime - wakeupdatetime\n",
    "\n",
    "blocks_of_10_minutes = int(time_difference.total_seconds() / 600)\n",
    "\n",
    "\n",
    "arr=[]\n",
    "for block_no in range(0, blocks_of_10_minutes):\n",
    "    start_time=wakeupdatetime + timedelta(minutes=block_no*10)\n",
    "    block= Blockof10min(start_time)\n",
    "    arr.append(block)\n",
    "\n"
   ]
  },
  {
   "cell_type": "code",
   "execution_count": 54,
   "metadata": {},
   "outputs": [
    {
     "name": "stdout",
     "output_type": "stream",
     "text": [
      "start_timestamp: 2023-12-30 08:00:00, state=future\n",
      "start_timestamp: 2023-12-30 08:10:00, state=future\n",
      "start_timestamp: 2023-12-30 08:20:00, state=future\n",
      "start_timestamp: 2023-12-30 08:30:00, state=future\n",
      "start_timestamp: 2023-12-30 08:40:00, state=future\n",
      "start_timestamp: 2023-12-30 08:50:00, state=future\n",
      "start_timestamp: 2023-12-30 09:00:00, state=future\n",
      "start_timestamp: 2023-12-30 09:10:00, state=future\n",
      "start_timestamp: 2023-12-30 09:20:00, state=future\n",
      "start_timestamp: 2023-12-30 09:30:00, state=future\n",
      "start_timestamp: 2023-12-30 09:40:00, state=future\n",
      "start_timestamp: 2023-12-30 09:50:00, state=future\n",
      "start_timestamp: 2023-12-30 10:00:00, state=future\n",
      "start_timestamp: 2023-12-30 10:10:00, state=future\n",
      "start_timestamp: 2023-12-30 10:20:00, state=future\n",
      "start_timestamp: 2023-12-30 10:30:00, state=future\n",
      "start_timestamp: 2023-12-30 10:40:00, state=future\n",
      "start_timestamp: 2023-12-30 10:50:00, state=future\n",
      "start_timestamp: 2023-12-30 11:00:00, state=future\n",
      "start_timestamp: 2023-12-30 11:10:00, state=future\n",
      "start_timestamp: 2023-12-30 11:20:00, state=future\n",
      "start_timestamp: 2023-12-30 11:30:00, state=future\n",
      "start_timestamp: 2023-12-30 11:40:00, state=future\n",
      "start_timestamp: 2023-12-30 11:50:00, state=future\n",
      "start_timestamp: 2023-12-30 12:00:00, state=future\n",
      "start_timestamp: 2023-12-30 12:10:00, state=future\n",
      "start_timestamp: 2023-12-30 12:20:00, state=future\n",
      "start_timestamp: 2023-12-30 12:30:00, state=future\n",
      "start_timestamp: 2023-12-30 12:40:00, state=future\n",
      "start_timestamp: 2023-12-30 12:50:00, state=future\n",
      "start_timestamp: 2023-12-30 13:00:00, state=future\n",
      "start_timestamp: 2023-12-30 13:10:00, state=future\n",
      "start_timestamp: 2023-12-30 13:20:00, state=future\n",
      "start_timestamp: 2023-12-30 13:30:00, state=future\n",
      "start_timestamp: 2023-12-30 13:40:00, state=future\n",
      "start_timestamp: 2023-12-30 13:50:00, state=future\n",
      "start_timestamp: 2023-12-30 14:00:00, state=future\n",
      "start_timestamp: 2023-12-30 14:10:00, state=future\n",
      "start_timestamp: 2023-12-30 14:20:00, state=future\n",
      "start_timestamp: 2023-12-30 14:30:00, state=future\n",
      "start_timestamp: 2023-12-30 14:40:00, state=future\n",
      "start_timestamp: 2023-12-30 14:50:00, state=future\n",
      "start_timestamp: 2023-12-30 15:00:00, state=future\n",
      "start_timestamp: 2023-12-30 15:10:00, state=future\n",
      "start_timestamp: 2023-12-30 15:20:00, state=future\n",
      "start_timestamp: 2023-12-30 15:30:00, state=future\n",
      "start_timestamp: 2023-12-30 15:40:00, state=future\n",
      "start_timestamp: 2023-12-30 15:50:00, state=future\n",
      "start_timestamp: 2023-12-30 16:00:00, state=future\n",
      "start_timestamp: 2023-12-30 16:10:00, state=future\n",
      "start_timestamp: 2023-12-30 16:20:00, state=future\n",
      "start_timestamp: 2023-12-30 16:30:00, state=future\n",
      "start_timestamp: 2023-12-30 16:40:00, state=future\n",
      "start_timestamp: 2023-12-30 16:50:00, state=future\n",
      "start_timestamp: 2023-12-30 17:00:00, state=future\n",
      "start_timestamp: 2023-12-30 17:10:00, state=future\n",
      "start_timestamp: 2023-12-30 17:20:00, state=future\n",
      "start_timestamp: 2023-12-30 17:30:00, state=future\n",
      "start_timestamp: 2023-12-30 17:40:00, state=future\n",
      "start_timestamp: 2023-12-30 17:50:00, state=future\n",
      "start_timestamp: 2023-12-30 18:00:00, state=future\n",
      "start_timestamp: 2023-12-30 18:10:00, state=future\n",
      "start_timestamp: 2023-12-30 18:20:00, state=future\n",
      "start_timestamp: 2023-12-30 18:30:00, state=future\n",
      "start_timestamp: 2023-12-30 18:40:00, state=future\n",
      "start_timestamp: 2023-12-30 18:50:00, state=future\n",
      "start_timestamp: 2023-12-30 19:00:00, state=future\n",
      "start_timestamp: 2023-12-30 19:10:00, state=future\n",
      "start_timestamp: 2023-12-30 19:20:00, state=future\n",
      "start_timestamp: 2023-12-30 19:30:00, state=future\n",
      "start_timestamp: 2023-12-30 19:40:00, state=future\n",
      "start_timestamp: 2023-12-30 19:50:00, state=future\n"
     ]
    }
   ],
   "source": [
    "for item in arr:\n",
    "    print(item)"
   ]
  },
  {
   "cell_type": "code",
   "execution_count": 42,
   "metadata": {},
   "outputs": [
    {
     "data": {
      "text/plain": [
       "datetime.datetime(2023, 12, 29, 17, 18, 40, 708548)"
      ]
     },
     "execution_count": 42,
     "metadata": {},
     "output_type": "execute_result"
    }
   ],
   "source": [
    "current_datetime"
   ]
  },
  {
   "cell_type": "code",
   "execution_count": 47,
   "metadata": {},
   "outputs": [
    {
     "data": {
      "text/plain": [
       "datetime.datetime(2023, 12, 29, 8, 0)"
      ]
     },
     "execution_count": 47,
     "metadata": {},
     "output_type": "execute_result"
    }
   ],
   "source": [
    "wakeupdatetime"
   ]
  },
  {
   "cell_type": "code",
   "execution_count": 48,
   "metadata": {},
   "outputs": [
    {
     "data": {
      "text/plain": [
       "datetime.datetime(2023, 12, 29, 20, 0)"
      ]
     },
     "execution_count": 48,
     "metadata": {},
     "output_type": "execute_result"
    }
   ],
   "source": [
    "sleepdatetime"
   ]
  },
  {
   "cell_type": "code",
   "execution_count": 49,
   "metadata": {},
   "outputs": [
    {
     "data": {
      "text/plain": [
       "datetime.timedelta(seconds=43200)"
      ]
     },
     "execution_count": 49,
     "metadata": {},
     "output_type": "execute_result"
    }
   ],
   "source": [
    "time_difference= sleepdatetime - wakeupdatetime\n",
    "time_difference"
   ]
  },
  {
   "cell_type": "code",
   "execution_count": 44,
   "metadata": {},
   "outputs": [],
   "source": []
  },
  {
   "cell_type": "code",
   "execution_count": null,
   "metadata": {},
   "outputs": [],
   "source": [
    "# when do you start a new session for the user?\n",
    "# what if the user get_passed their sleep time? and move past 12:00 am? \n",
    "# when do you know that user has started the day early or still hasn't ended the day?\n",
    "# how to tell user it's past bedtime?  Logic: if current_time - bedtime > 4hours  new day, else past bedtime\n"
   ]
  }
 ],
 "metadata": {
  "kernelspec": {
   "display_name": ".venv",
   "language": "python",
   "name": "python3"
  },
  "language_info": {
   "codemirror_mode": {
    "name": "ipython",
    "version": 3
   },
   "file_extension": ".py",
   "mimetype": "text/x-python",
   "name": "python",
   "nbconvert_exporter": "python",
   "pygments_lexer": "ipython3",
   "version": "3.11.3"
  }
 },
 "nbformat": 4,
 "nbformat_minor": 2
}
